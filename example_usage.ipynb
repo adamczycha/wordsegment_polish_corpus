{
 "cells": [
  {
   "cell_type": "code",
   "execution_count": 3,
   "id": "33751844",
   "metadata": {},
   "outputs": [],
   "source": [
    "from spacy.lang.pl import Polish\n",
    "from unidecode import unidecode\n",
    "import json\n",
    "import regex as re\n",
    "from pprint import pprint"
   ]
  },
  {
   "cell_type": "code",
   "execution_count": 4,
   "id": "e5970f01",
   "metadata": {},
   "outputs": [
    {
     "name": "stdout",
     "output_type": "stream",
     "text": [
      "('Einstein to twórca szczególnej teorii względności, która ulepszyła mechanikę '\n",
      " 'Newtona i zastąpiła w tej korekcyjnej roli teorię eteru Lorentza. Autor '\n",
      " 'wynikającej z STW równoważności masy i energii, czasem formułowanej słynnym '\n",
      " 'wzorem E = mc2. Został on potwierdzony przez reakcje subatomowe, np. '\n",
      " 'jądrowe; doprowadziło to do rewizji zasady zachowania masy, samego pojęcia '\n",
      " 'materii i otworzyło epokę jądrowej broni oraz energetyki.')\n"
     ]
    }
   ],
   "source": [
    "text = 'Einstein to twórca szczególnej teorii względności, która ulepszyła mechanikę Newtona i zastąpiła w tej korekcyjnej roli teorię eteru Lorentza. Autor wynikającej z STW równoważności masy i energii, czasem formułowanej słynnym wzorem E = mc2. Został on potwierdzony przez reakcje subatomowe, np. jądrowe; doprowadziło to do rewizji zasady zachowania masy, samego pojęcia materii i otworzyło epokę jądrowej broni oraz energetyki.'; pprint(text)"
   ]
  },
  {
   "cell_type": "code",
   "execution_count": 6,
   "id": "3b075a1b",
   "metadata": {},
   "outputs": [],
   "source": [
    "text = text.replace(' ','')"
   ]
  },
  {
   "cell_type": "code",
   "execution_count": 7,
   "id": "c8e03ba3",
   "metadata": {},
   "outputs": [
    {
     "data": {
      "text/plain": [
       "'Einsteintotwórcaszczególnejteoriiwzględności,któraulepszyłamechanikęNewtonaizastąpiławtejkorekcyjnejroliteorięeteruLorentza.AutorwynikającejzSTWrównoważnościmasyienergii,czasemformułowanejsłynnymwzoremE=mc2.Zostałonpotwierdzonyprzezreakcjesubatomowe,np.jądrowe;doprowadziłotodorewizjizasadyzachowaniamasy,samegopojęciamateriiiotworzyłoepokęjądrowejbroniorazenergetyki.'"
      ]
     },
     "execution_count": 7,
     "metadata": {},
     "output_type": "execute_result"
    }
   ],
   "source": [
    "text\n"
   ]
  },
  {
   "cell_type": "code",
   "execution_count": 8,
   "id": "21a76e6e",
   "metadata": {},
   "outputs": [],
   "source": [
    "import wordsegment\n",
    "wordsegment.load()"
   ]
  },
  {
   "cell_type": "code",
   "execution_count": null,
   "id": "91367e51",
   "metadata": {},
   "outputs": [
    {
     "name": "stdout",
     "output_type": "stream",
     "text": [
      "['einstein',\n",
      " 'to',\n",
      " 'twrcaszczeglnejteoriiwzg',\n",
      " 'ldnociktraulepszya',\n",
      " 'mechanik',\n",
      " 'newton',\n",
      " 'a',\n",
      " 'i',\n",
      " 'zastpiawtejkorekcyjnejro',\n",
      " 'lite',\n",
      " 'or',\n",
      " 'ie',\n",
      " 'teru',\n",
      " 'lorentz',\n",
      " 'abautorwynikajcejzstwrw',\n",
      " 'now',\n",
      " 'anocimasyienergiiczasem',\n",
      " 'for',\n",
      " 'muowanejsynnymwzorememc2',\n",
      " 'zosta',\n",
      " 'on',\n",
      " 'potwierdzonyprzezreakcje',\n",
      " 'sub',\n",
      " 'atom',\n",
      " 'owenpjdrowedoprowadzio',\n",
      " 'to',\n",
      " 'do',\n",
      " 'rewizjizasadyzachowaniam',\n",
      " 'asysamegopojciamateriiio',\n",
      " 'two',\n",
      " 'rzyoepokjdrowejbroniora',\n",
      " 'zener',\n",
      " 'get',\n",
      " 'yk',\n",
      " 'i']\n"
     ]
    }
   ],
   "source": [
    "wordsegment.segment(text)"
   ]
  },
  {
   "cell_type": "code",
   "execution_count": 11,
   "id": "629003ea",
   "metadata": {},
   "outputs": [],
   "source": [
    "with open('polish/polish_unigrams_ge2.json') as f:\n",
    "    polish_unigrams = json.load(f)\n",
    "with open('polish/polish_bigrams_ge2.json') as f:\n",
    "    polish_bigrams = json.load(f)"
   ]
  },
  {
   "cell_type": "code",
   "execution_count": 12,
   "id": "4b8d0829",
   "metadata": {},
   "outputs": [],
   "source": [
    "wordsegment.UNIGRAMS.clear()\n",
    "wordsegment.UNIGRAMS.update(polish_unigrams)\n",
    "\n",
    "wordsegment.BIGRAMS.clear()\n",
    "wordsegment.BIGRAMS.update(polish_bigrams)"
   ]
  },
  {
   "cell_type": "code",
   "execution_count": null,
   "id": "c4182816",
   "metadata": {},
   "outputs": [],
   "source": [
    "#without diacritics\n",
    "nlp = Polish()\n",
    "def tokenize(text):\n",
    "    text = unidecode(text)\n",
    "    out = nlp.make_doc(text)\n",
    "    return [str(t).lower() for t in out if t.is_alpha]\n",
    "\n",
    "def clean_no_diacritics( text):\n",
    "    text= unidecode(text)\n",
    "    text = text.lower()\n",
    "    return ''.join(re.findall(r'[a-z]', text))\n",
    "    "
   ]
  },
  {
   "cell_type": "code",
   "execution_count": 34,
   "id": "33f5a855",
   "metadata": {},
   "outputs": [],
   "source": [
    "def clean( text):\n",
    "    text = text.lower()\n",
    "    return ''.join(re.findall(r'[\\p{L}]+', text))"
   ]
  },
  {
   "cell_type": "code",
   "execution_count": 31,
   "id": "848bd06e",
   "metadata": {},
   "outputs": [
    {
     "data": {
      "text/plain": [
       "'hęję'"
      ]
     },
     "execution_count": 31,
     "metadata": {},
     "output_type": "execute_result"
    }
   ],
   "source": [
    "clean('hęję')"
   ]
  },
  {
   "cell_type": "code",
   "execution_count": 35,
   "id": "6acb5137",
   "metadata": {},
   "outputs": [],
   "source": [
    "from wordsegment import _segmenter\n",
    "\n",
    "_segmenter.clean = clean"
   ]
  },
  {
   "cell_type": "code",
   "execution_count": 38,
   "id": "80623208",
   "metadata": {},
   "outputs": [
    {
     "data": {
      "text/plain": [
       "['einstein',\n",
       " 'to',\n",
       " 'twórca',\n",
       " 'szczególnej',\n",
       " 'teorii',\n",
       " 'względności',\n",
       " 'która',\n",
       " 'ulepszyła',\n",
       " 'mechanikę',\n",
       " 'newtona',\n",
       " 'i',\n",
       " 'zastąpiła',\n",
       " 'w',\n",
       " 'tej',\n",
       " 'korekcyjnej',\n",
       " 'rol',\n",
       " 'i',\n",
       " 'teorię',\n",
       " 'eteru',\n",
       " 'lorentza',\n",
       " 'autor',\n",
       " 'wynikającej',\n",
       " 'z',\n",
       " 'st',\n",
       " 'w',\n",
       " 'równoważności',\n",
       " 'masy',\n",
       " 'i',\n",
       " 'energii',\n",
       " 'czasem',\n",
       " 'formułowanej',\n",
       " 'słynnym',\n",
       " 'wzorem',\n",
       " 'e',\n",
       " 'mc',\n",
       " 'został',\n",
       " 'on',\n",
       " 'potwierdzony',\n",
       " 'przez',\n",
       " 'reakcje',\n",
       " 'subatomowe',\n",
       " 'np',\n",
       " 'jądrowe',\n",
       " 'doprowadziło',\n",
       " 'to',\n",
       " 'do',\n",
       " 'rewizji',\n",
       " 'zasady',\n",
       " 'zachowania',\n",
       " 'masy',\n",
       " 'samego',\n",
       " 'pojęcia',\n",
       " 'materii',\n",
       " 'i',\n",
       " 'otworzyło',\n",
       " 'epokę',\n",
       " 'jądrowej',\n",
       " 'broni',\n",
       " 'oraz',\n",
       " 'energetyki']"
      ]
     },
     "execution_count": 38,
     "metadata": {},
     "output_type": "execute_result"
    }
   ],
   "source": [
    "wordsegment.segment(text)"
   ]
  }
 ],
 "metadata": {
  "kernelspec": {
   "display_name": ".venv",
   "language": "python",
   "name": "python3"
  },
  "language_info": {
   "codemirror_mode": {
    "name": "ipython",
    "version": 3
   },
   "file_extension": ".py",
   "mimetype": "text/x-python",
   "name": "python",
   "nbconvert_exporter": "python",
   "pygments_lexer": "ipython3",
   "version": "3.12.3"
  }
 },
 "nbformat": 4,
 "nbformat_minor": 5
}
